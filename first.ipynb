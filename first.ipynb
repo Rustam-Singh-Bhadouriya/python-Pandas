{
 "cells": [
  {
   "cell_type": "code",
   "execution_count": 4,
   "id": "e0528cb7",
   "metadata": {},
   "outputs": [],
   "source": [
    "import numpy as np \n",
    "import pandas as pd"
   ]
  },
  {
   "cell_type": "markdown",
   "id": "4e5b4257",
   "metadata": {},
   "source": [
    "## Data Frames\n",
    "\n",
    "## **first_df , second_df , third_df , read_data** "
   ]
  },
  {
   "cell_type": "code",
   "execution_count": 4,
   "id": "853b9352",
   "metadata": {},
   "outputs": [],
   "source": [
    "arr = np.array([2,3,4,5])"
   ]
  },
  {
   "cell_type": "code",
   "execution_count": 5,
   "id": "1f559e03",
   "metadata": {},
   "outputs": [
    {
     "data": {
      "text/plain": [
       "array([2, 3, 4, 5])"
      ]
     },
     "execution_count": 5,
     "metadata": {},
     "output_type": "execute_result"
    }
   ],
   "source": [
    "arr"
   ]
  },
  {
   "cell_type": "code",
   "execution_count": 9,
   "id": "5c5dbc5e",
   "metadata": {},
   "outputs": [],
   "source": [
    "dict1 = {\n",
    "    'Name':['Rustam' , 'Subh' , 'Harry'],\n",
    "    'Marks' : [99 , 89 , 100],\n",
    "    'City' : ['jaloun' , 'moon' , 'Rampur']\n",
    "}"
   ]
  },
  {
   "cell_type": "code",
   "execution_count": 10,
   "id": "391b5938",
   "metadata": {},
   "outputs": [],
   "source": [
    "first_df = pd.DataFrame(dict1)"
   ]
  },
  {
   "cell_type": "code",
   "execution_count": 8,
   "id": "1d6d9790",
   "metadata": {},
   "outputs": [
    {
     "data": {
      "text/html": [
       "<div>\n",
       "<style scoped>\n",
       "    .dataframe tbody tr th:only-of-type {\n",
       "        vertical-align: middle;\n",
       "    }\n",
       "\n",
       "    .dataframe tbody tr th {\n",
       "        vertical-align: top;\n",
       "    }\n",
       "\n",
       "    .dataframe thead th {\n",
       "        text-align: right;\n",
       "    }\n",
       "</style>\n",
       "<table border=\"1\" class=\"dataframe\">\n",
       "  <thead>\n",
       "    <tr style=\"text-align: right;\">\n",
       "      <th></th>\n",
       "      <th>Name</th>\n",
       "      <th>Marks</th>\n",
       "      <th>City</th>\n",
       "    </tr>\n",
       "  </thead>\n",
       "  <tbody>\n",
       "    <tr>\n",
       "      <th>0</th>\n",
       "      <td>Rustam</td>\n",
       "      <td>99</td>\n",
       "      <td>jaloun</td>\n",
       "    </tr>\n",
       "    <tr>\n",
       "      <th>1</th>\n",
       "      <td>Subh</td>\n",
       "      <td>89</td>\n",
       "      <td>moon</td>\n",
       "    </tr>\n",
       "    <tr>\n",
       "      <th>2</th>\n",
       "      <td>Harry</td>\n",
       "      <td>100</td>\n",
       "      <td>Rampur</td>\n",
       "    </tr>\n",
       "  </tbody>\n",
       "</table>\n",
       "</div>"
      ],
      "text/plain": [
       "     Name  Marks    City\n",
       "0  Rustam     99  jaloun\n",
       "1    Subh     89    moon\n",
       "2   Harry    100  Rampur"
      ]
     },
     "execution_count": 8,
     "metadata": {},
     "output_type": "execute_result"
    }
   ],
   "source": [
    "first_df"
   ]
  },
  {
   "cell_type": "code",
   "execution_count": 9,
   "id": "4ae87a04",
   "metadata": {},
   "outputs": [],
   "source": [
    "first_df.to_csv('write.csv')"
   ]
  },
  {
   "cell_type": "code",
   "execution_count": 10,
   "id": "c9be0997",
   "metadata": {},
   "outputs": [
    {
     "ename": "TypeError",
     "evalue": "Index(...) must be called with a collection of some kind, False was passed",
     "output_type": "error",
     "traceback": [
      "\u001b[31m---------------------------------------------------------------------------\u001b[39m",
      "\u001b[31mTypeError\u001b[39m                                 Traceback (most recent call last)",
      "\u001b[36mCell\u001b[39m\u001b[36m \u001b[39m\u001b[32mIn[10]\u001b[39m\u001b[32m, line 1\u001b[39m\n\u001b[32m----> \u001b[39m\u001b[32m1\u001b[39m Second_df = \u001b[43mpd\u001b[49m\u001b[43m.\u001b[49m\u001b[43mDataFrame\u001b[49m\u001b[43m(\u001b[49m\u001b[43mdict1\u001b[49m\u001b[43m \u001b[49m\u001b[43m,\u001b[49m\u001b[43m \u001b[49m\u001b[43mindex\u001b[49m\u001b[43m=\u001b[49m\u001b[38;5;28;43;01mFalse\u001b[39;49;00m\u001b[43m)\u001b[49m\n\u001b[32m      2\u001b[39m Second_df\n",
      "\u001b[36mFile \u001b[39m\u001b[32mc:\\Users\\gopal\\AppData\\Local\\Programs\\Python\\Python313\\Lib\\site-packages\\pandas\\core\\frame.py:778\u001b[39m, in \u001b[36mDataFrame.__init__\u001b[39m\u001b[34m(self, data, index, columns, dtype, copy)\u001b[39m\n\u001b[32m    772\u001b[39m     mgr = \u001b[38;5;28mself\u001b[39m._init_mgr(\n\u001b[32m    773\u001b[39m         data, axes={\u001b[33m\"\u001b[39m\u001b[33mindex\u001b[39m\u001b[33m\"\u001b[39m: index, \u001b[33m\"\u001b[39m\u001b[33mcolumns\u001b[39m\u001b[33m\"\u001b[39m: columns}, dtype=dtype, copy=copy\n\u001b[32m    774\u001b[39m     )\n\u001b[32m    776\u001b[39m \u001b[38;5;28;01melif\u001b[39;00m \u001b[38;5;28misinstance\u001b[39m(data, \u001b[38;5;28mdict\u001b[39m):\n\u001b[32m    777\u001b[39m     \u001b[38;5;66;03m# GH#38939 de facto copy defaults to False only in non-dict cases\u001b[39;00m\n\u001b[32m--> \u001b[39m\u001b[32m778\u001b[39m     mgr = \u001b[43mdict_to_mgr\u001b[49m\u001b[43m(\u001b[49m\u001b[43mdata\u001b[49m\u001b[43m,\u001b[49m\u001b[43m \u001b[49m\u001b[43mindex\u001b[49m\u001b[43m,\u001b[49m\u001b[43m \u001b[49m\u001b[43mcolumns\u001b[49m\u001b[43m,\u001b[49m\u001b[43m \u001b[49m\u001b[43mdtype\u001b[49m\u001b[43m=\u001b[49m\u001b[43mdtype\u001b[49m\u001b[43m,\u001b[49m\u001b[43m \u001b[49m\u001b[43mcopy\u001b[49m\u001b[43m=\u001b[49m\u001b[43mcopy\u001b[49m\u001b[43m,\u001b[49m\u001b[43m \u001b[49m\u001b[43mtyp\u001b[49m\u001b[43m=\u001b[49m\u001b[43mmanager\u001b[49m\u001b[43m)\u001b[49m\n\u001b[32m    779\u001b[39m \u001b[38;5;28;01melif\u001b[39;00m \u001b[38;5;28misinstance\u001b[39m(data, ma.MaskedArray):\n\u001b[32m    780\u001b[39m     \u001b[38;5;28;01mfrom\u001b[39;00m\u001b[38;5;250m \u001b[39m\u001b[34;01mnumpy\u001b[39;00m\u001b[34;01m.\u001b[39;00m\u001b[34;01mma\u001b[39;00m\u001b[38;5;250m \u001b[39m\u001b[38;5;28;01mimport\u001b[39;00m mrecords\n",
      "\u001b[36mFile \u001b[39m\u001b[32mc:\\Users\\gopal\\AppData\\Local\\Programs\\Python\\Python313\\Lib\\site-packages\\pandas\\core\\internals\\construction.py:503\u001b[39m, in \u001b[36mdict_to_mgr\u001b[39m\u001b[34m(data, index, columns, dtype, typ, copy)\u001b[39m\n\u001b[32m    499\u001b[39m     \u001b[38;5;28;01melse\u001b[39;00m:\n\u001b[32m    500\u001b[39m         \u001b[38;5;66;03m# dtype check to exclude e.g. range objects, scalars\u001b[39;00m\n\u001b[32m    501\u001b[39m         arrays = [x.copy() \u001b[38;5;28;01mif\u001b[39;00m \u001b[38;5;28mhasattr\u001b[39m(x, \u001b[33m\"\u001b[39m\u001b[33mdtype\u001b[39m\u001b[33m\"\u001b[39m) \u001b[38;5;28;01melse\u001b[39;00m x \u001b[38;5;28;01mfor\u001b[39;00m x \u001b[38;5;129;01min\u001b[39;00m arrays]\n\u001b[32m--> \u001b[39m\u001b[32m503\u001b[39m \u001b[38;5;28;01mreturn\u001b[39;00m \u001b[43marrays_to_mgr\u001b[49m\u001b[43m(\u001b[49m\u001b[43marrays\u001b[49m\u001b[43m,\u001b[49m\u001b[43m \u001b[49m\u001b[43mcolumns\u001b[49m\u001b[43m,\u001b[49m\u001b[43m \u001b[49m\u001b[43mindex\u001b[49m\u001b[43m,\u001b[49m\u001b[43m \u001b[49m\u001b[43mdtype\u001b[49m\u001b[43m=\u001b[49m\u001b[43mdtype\u001b[49m\u001b[43m,\u001b[49m\u001b[43m \u001b[49m\u001b[43mtyp\u001b[49m\u001b[43m=\u001b[49m\u001b[43mtyp\u001b[49m\u001b[43m,\u001b[49m\u001b[43m \u001b[49m\u001b[43mconsolidate\u001b[49m\u001b[43m=\u001b[49m\u001b[43mcopy\u001b[49m\u001b[43m)\u001b[49m\n",
      "\u001b[36mFile \u001b[39m\u001b[32mc:\\Users\\gopal\\AppData\\Local\\Programs\\Python\\Python313\\Lib\\site-packages\\pandas\\core\\internals\\construction.py:116\u001b[39m, in \u001b[36marrays_to_mgr\u001b[39m\u001b[34m(arrays, columns, index, dtype, verify_integrity, typ, consolidate)\u001b[39m\n\u001b[32m    114\u001b[39m     index = _extract_index(arrays)\n\u001b[32m    115\u001b[39m \u001b[38;5;28;01melse\u001b[39;00m:\n\u001b[32m--> \u001b[39m\u001b[32m116\u001b[39m     index = \u001b[43mensure_index\u001b[49m\u001b[43m(\u001b[49m\u001b[43mindex\u001b[49m\u001b[43m)\u001b[49m\n\u001b[32m    118\u001b[39m \u001b[38;5;66;03m# don't force copy because getting jammed in an ndarray anyway\u001b[39;00m\n\u001b[32m    119\u001b[39m arrays, refs = _homogenize(arrays, index, dtype)\n",
      "\u001b[36mFile \u001b[39m\u001b[32mc:\\Users\\gopal\\AppData\\Local\\Programs\\Python\\Python313\\Lib\\site-packages\\pandas\\core\\indexes\\base.py:7649\u001b[39m, in \u001b[36mensure_index\u001b[39m\u001b[34m(index_like, copy)\u001b[39m\n\u001b[32m   7647\u001b[39m         \u001b[38;5;28;01mreturn\u001b[39;00m Index(index_like, copy=copy, tupleize_cols=\u001b[38;5;28;01mFalse\u001b[39;00m)\n\u001b[32m   7648\u001b[39m \u001b[38;5;28;01melse\u001b[39;00m:\n\u001b[32m-> \u001b[39m\u001b[32m7649\u001b[39m     \u001b[38;5;28;01mreturn\u001b[39;00m \u001b[43mIndex\u001b[49m\u001b[43m(\u001b[49m\u001b[43mindex_like\u001b[49m\u001b[43m,\u001b[49m\u001b[43m \u001b[49m\u001b[43mcopy\u001b[49m\u001b[43m=\u001b[49m\u001b[43mcopy\u001b[49m\u001b[43m)\u001b[49m\n",
      "\u001b[36mFile \u001b[39m\u001b[32mc:\\Users\\gopal\\AppData\\Local\\Programs\\Python\\Python313\\Lib\\site-packages\\pandas\\core\\indexes\\base.py:526\u001b[39m, in \u001b[36mIndex.__new__\u001b[39m\u001b[34m(cls, data, dtype, copy, name, tupleize_cols)\u001b[39m\n\u001b[32m    523\u001b[39m         data = com.asarray_tuplesafe(data, dtype=_dtype_obj)\n\u001b[32m    525\u001b[39m \u001b[38;5;28;01melif\u001b[39;00m is_scalar(data):\n\u001b[32m--> \u001b[39m\u001b[32m526\u001b[39m     \u001b[38;5;28;01mraise\u001b[39;00m \u001b[38;5;28;43mcls\u001b[39;49m\u001b[43m.\u001b[49m\u001b[43m_raise_scalar_data_error\u001b[49m\u001b[43m(\u001b[49m\u001b[43mdata\u001b[49m\u001b[43m)\u001b[49m\n\u001b[32m    527\u001b[39m \u001b[38;5;28;01melif\u001b[39;00m \u001b[38;5;28mhasattr\u001b[39m(data, \u001b[33m\"\u001b[39m\u001b[33m__array__\u001b[39m\u001b[33m\"\u001b[39m):\n\u001b[32m    528\u001b[39m     \u001b[38;5;28;01mreturn\u001b[39;00m \u001b[38;5;28mcls\u001b[39m(np.asarray(data), dtype=dtype, copy=copy, name=name)\n",
      "\u001b[36mFile \u001b[39m\u001b[32mc:\\Users\\gopal\\AppData\\Local\\Programs\\Python\\Python313\\Lib\\site-packages\\pandas\\core\\indexes\\base.py:5289\u001b[39m, in \u001b[36mIndex._raise_scalar_data_error\u001b[39m\u001b[34m(cls, data)\u001b[39m\n\u001b[32m   5284\u001b[39m \u001b[38;5;129m@final\u001b[39m\n\u001b[32m   5285\u001b[39m \u001b[38;5;129m@classmethod\u001b[39m\n\u001b[32m   5286\u001b[39m \u001b[38;5;28;01mdef\u001b[39;00m\u001b[38;5;250m \u001b[39m\u001b[34m_raise_scalar_data_error\u001b[39m(\u001b[38;5;28mcls\u001b[39m, data):\n\u001b[32m   5287\u001b[39m     \u001b[38;5;66;03m# We return the TypeError so that we can raise it from the constructor\u001b[39;00m\n\u001b[32m   5288\u001b[39m     \u001b[38;5;66;03m#  in order to keep mypy happy\u001b[39;00m\n\u001b[32m-> \u001b[39m\u001b[32m5289\u001b[39m     \u001b[38;5;28;01mraise\u001b[39;00m \u001b[38;5;167;01mTypeError\u001b[39;00m(\n\u001b[32m   5290\u001b[39m         \u001b[33mf\u001b[39m\u001b[33m\"\u001b[39m\u001b[38;5;132;01m{\u001b[39;00m\u001b[38;5;28mcls\u001b[39m.\u001b[34m__name__\u001b[39m\u001b[38;5;132;01m}\u001b[39;00m\u001b[33m(...) must be called with a collection of some \u001b[39m\u001b[33m\"\u001b[39m\n\u001b[32m   5291\u001b[39m         \u001b[33mf\u001b[39m\u001b[33m\"\u001b[39m\u001b[33mkind, \u001b[39m\u001b[38;5;132;01m{\u001b[39;00m\u001b[38;5;28mrepr\u001b[39m(data)\u001b[38;5;250m \u001b[39m\u001b[38;5;28;01mif\u001b[39;00m\u001b[38;5;250m \u001b[39m\u001b[38;5;129;01mnot\u001b[39;00m\u001b[38;5;250m \u001b[39m\u001b[38;5;28misinstance\u001b[39m(data,\u001b[38;5;250m \u001b[39mnp.generic)\u001b[38;5;250m \u001b[39m\u001b[38;5;28;01melse\u001b[39;00m\u001b[38;5;250m \u001b[39m\u001b[38;5;28mstr\u001b[39m(data)\u001b[38;5;132;01m}\u001b[39;00m\u001b[33m \u001b[39m\u001b[33m\"\u001b[39m\n\u001b[32m   5292\u001b[39m         \u001b[33m\"\u001b[39m\u001b[33mwas passed\u001b[39m\u001b[33m\"\u001b[39m\n\u001b[32m   5293\u001b[39m     )\n",
      "\u001b[31mTypeError\u001b[39m: Index(...) must be called with a collection of some kind, False was passed"
     ]
    }
   ],
   "source": [
    "Second_df = pd.DataFrame(dict1 , index=False)\n",
    "Second_df"
   ]
  },
  {
   "cell_type": "code",
   "execution_count": null,
   "id": "0cbb7ac6",
   "metadata": {},
   "outputs": [],
   "source": [
    "Second_df"
   ]
  },
  {
   "cell_type": "code",
   "execution_count": null,
   "id": "ab916f63",
   "metadata": {},
   "outputs": [],
   "source": [
    "first_df.to_csv('write.csv' , index=False)"
   ]
  },
  {
   "cell_type": "code",
   "execution_count": 11,
   "id": "6d1ee26e",
   "metadata": {},
   "outputs": [],
   "source": [
    "dict2 = {\n",
    "    'Name':['Rustam' , 'Subh' , 'Harry' , 'Rahul'],\n",
    "    'Marks' : [99 , 89 , 100 , 00],\n",
    "    'City' : ['jaloun' , 'moon' , 'Rampur' , 'Lucknow']\n",
    "}\n"
   ]
  },
  {
   "cell_type": "code",
   "execution_count": 12,
   "id": "91befe6b",
   "metadata": {},
   "outputs": [],
   "source": [
    "Second_df = pd.DataFrame(dict2)"
   ]
  },
  {
   "cell_type": "code",
   "execution_count": null,
   "id": "808d98b3",
   "metadata": {},
   "outputs": [],
   "source": [
    "Second_df"
   ]
  },
  {
   "cell_type": "code",
   "execution_count": null,
   "id": "d66390bf",
   "metadata": {},
   "outputs": [],
   "source": [
    "Second_df.head(2)"
   ]
  },
  {
   "cell_type": "code",
   "execution_count": null,
   "id": "7cf094e3",
   "metadata": {},
   "outputs": [],
   "source": [
    "Second_df.tail(2)"
   ]
  },
  {
   "cell_type": "code",
   "execution_count": null,
   "id": "c7d79363",
   "metadata": {},
   "outputs": [],
   "source": [
    "\"Hello\""
   ]
  },
  {
   "cell_type": "markdown",
   "id": "990f8284",
   "metadata": {},
   "source": [
    "** Learning **"
   ]
  },
  {
   "cell_type": "code",
   "execution_count": null,
   "id": "03dbcc23",
   "metadata": {},
   "outputs": [],
   "source": [
    "Second_df.describe()"
   ]
  },
  {
   "cell_type": "code",
   "execution_count": null,
   "id": "7e5b4a84",
   "metadata": {},
   "outputs": [],
   "source": [
    "Second_df"
   ]
  },
  {
   "cell_type": "code",
   "execution_count": 13,
   "id": "fa813e3e",
   "metadata": {},
   "outputs": [],
   "source": [
    "read_data = pd.read_csv('Friends.csv')"
   ]
  },
  {
   "cell_type": "code",
   "execution_count": null,
   "id": "9e1718da",
   "metadata": {},
   "outputs": [],
   "source": [
    "read_data"
   ]
  },
  {
   "cell_type": "code",
   "execution_count": null,
   "id": "2a4bebc0",
   "metadata": {},
   "outputs": [],
   "source": [
    "read_data.head(3)"
   ]
  },
  {
   "cell_type": "code",
   "execution_count": null,
   "id": "51bef568",
   "metadata": {},
   "outputs": [],
   "source": [
    "read_data.describe()"
   ]
  },
  {
   "cell_type": "code",
   "execution_count": null,
   "id": "755367fc",
   "metadata": {},
   "outputs": [],
   "source": [
    "read_data['Marks']"
   ]
  },
  {
   "cell_type": "code",
   "execution_count": null,
   "id": "34c8755e",
   "metadata": {},
   "outputs": [],
   "source": [
    "read_data['Marks'][1]"
   ]
  },
  {
   "cell_type": "code",
   "execution_count": null,
   "id": "54b85c6d",
   "metadata": {},
   "outputs": [],
   "source": [
    "read_data['Marks'][1] = 88"
   ]
  },
  {
   "cell_type": "code",
   "execution_count": null,
   "id": "47e4f243",
   "metadata": {},
   "outputs": [],
   "source": [
    "read_data"
   ]
  },
  {
   "cell_type": "code",
   "execution_count": null,
   "id": "6e457f81",
   "metadata": {},
   "outputs": [],
   "source": [
    "read_data['Grade'][1] = 'B++'"
   ]
  },
  {
   "cell_type": "code",
   "execution_count": null,
   "id": "0cc9e4d6",
   "metadata": {},
   "outputs": [],
   "source": [
    "read_data"
   ]
  },
  {
   "cell_type": "code",
   "execution_count": null,
   "id": "eeb1c0aa",
   "metadata": {},
   "outputs": [],
   "source": [
    "read_data.update()"
   ]
  },
  {
   "cell_type": "code",
   "execution_count": null,
   "id": "50fc2906",
   "metadata": {},
   "outputs": [],
   "source": [
    "read_data.to_csv('Friends.csv' , index=False)"
   ]
  },
  {
   "cell_type": "code",
   "execution_count": null,
   "id": "fbb2d299",
   "metadata": {},
   "outputs": [],
   "source": [
    "read_data.index = ['*' * len(read_data)]"
   ]
  },
  {
   "cell_type": "code",
   "execution_count": null,
   "id": "da38e151",
   "metadata": {},
   "outputs": [],
   "source": [
    "read_data"
   ]
  },
  {
   "cell_type": "code",
   "execution_count": null,
   "id": "1801dda0",
   "metadata": {},
   "outputs": [],
   "source": [
    "read_data.index = ['*' , '*' , '*' , '*' , '*' , '*' ]"
   ]
  },
  {
   "cell_type": "code",
   "execution_count": null,
   "id": "4b859fe8",
   "metadata": {},
   "outputs": [],
   "source": [
    "read_data"
   ]
  },
  {
   "cell_type": "code",
   "execution_count": null,
   "id": "8feb9e70",
   "metadata": {},
   "outputs": [],
   "source": [
    "read_data.index = False"
   ]
  },
  {
   "cell_type": "code",
   "execution_count": null,
   "id": "23a6bde5",
   "metadata": {},
   "outputs": [],
   "source": [
    "read_data"
   ]
  },
  {
   "cell_type": "code",
   "execution_count": null,
   "id": "96213554",
   "metadata": {},
   "outputs": [],
   "source": [
    "read_data.index = [None , None , None , None , None , None]"
   ]
  },
  {
   "cell_type": "code",
   "execution_count": null,
   "id": "be0e0001",
   "metadata": {},
   "outputs": [],
   "source": [
    "read_data"
   ]
  },
  {
   "cell_type": "code",
   "execution_count": null,
   "id": "7041bc7d",
   "metadata": {},
   "outputs": [],
   "source": [
    "first_df"
   ]
  },
  {
   "cell_type": "code",
   "execution_count": null,
   "id": "1c2b04c0",
   "metadata": {},
   "outputs": [],
   "source": [
    "Second_df"
   ]
  },
  {
   "cell_type": "code",
   "execution_count": null,
   "id": "3a1a561a",
   "metadata": {},
   "outputs": [],
   "source": [
    "read_data"
   ]
  },
  {
   "cell_type": "code",
   "execution_count": null,
   "id": "a4f91e4d",
   "metadata": {},
   "outputs": [],
   "source": [
    "read_data.to_csv('Friends.csv' , index=False)"
   ]
  },
  {
   "cell_type": "code",
   "execution_count": null,
   "id": "fb398490",
   "metadata": {},
   "outputs": [],
   "source": [
    "read_data"
   ]
  },
  {
   "cell_type": "code",
   "execution_count": null,
   "id": "1c1f45fa",
   "metadata": {},
   "outputs": [],
   "source": [
    "read_data = pd.read_csv('Friends.csv')"
   ]
  },
  {
   "cell_type": "code",
   "execution_count": null,
   "id": "09923c6c",
   "metadata": {},
   "outputs": [],
   "source": [
    "read_data"
   ]
  },
  {
   "cell_type": "code",
   "execution_count": null,
   "id": "2a5e2fd9",
   "metadata": {},
   "outputs": [],
   "source": [
    "first_df"
   ]
  },
  {
   "cell_type": "code",
   "execution_count": null,
   "id": "6e67da7f",
   "metadata": {},
   "outputs": [],
   "source": [
    "Second_df"
   ]
  },
  {
   "cell_type": "code",
   "execution_count": null,
   "id": "c3814af4",
   "metadata": {},
   "outputs": [],
   "source": [
    "read_data"
   ]
  },
  {
   "cell_type": "code",
   "execution_count": 14,
   "id": "ed679dcb",
   "metadata": {},
   "outputs": [],
   "source": [
    "third_df = read_data"
   ]
  },
  {
   "cell_type": "code",
   "execution_count": null,
   "id": "f0a90f3a",
   "metadata": {},
   "outputs": [],
   "source": [
    "third_df"
   ]
  },
  {
   "cell_type": "code",
   "execution_count": null,
   "id": "60a9337b",
   "metadata": {},
   "outputs": [
    {
     "ename": "NameError",
     "evalue": "name 'third_df' is not defined",
     "output_type": "error",
     "traceback": [
      "\u001b[31m---------------------------------------------------------------------------\u001b[39m",
      "\u001b[31mNameError\u001b[39m                                 Traceback (most recent call last)",
      "\u001b[36mCell\u001b[39m\u001b[36m \u001b[39m\u001b[32mIn[1]\u001b[39m\u001b[32m, line 1\u001b[39m\n\u001b[32m----> \u001b[39m\u001b[32m1\u001b[39m \u001b[43mthird_df\u001b[49m\n",
      "\u001b[31mNameError\u001b[39m: name 'third_df' is not defined"
     ]
    }
   ],
   "source": []
  },
  {
   "cell_type": "code",
   "execution_count": null,
   "id": "7d85c94e",
   "metadata": {},
   "outputs": [
    {
     "ename": "NameError",
     "evalue": "name 'read_data' is not defined",
     "output_type": "error",
     "traceback": [
      "\u001b[31m---------------------------------------------------------------------------\u001b[39m",
      "\u001b[31mNameError\u001b[39m                                 Traceback (most recent call last)",
      "\u001b[36mCell\u001b[39m\u001b[36m \u001b[39m\u001b[32mIn[2]\u001b[39m\u001b[32m, line 1\u001b[39m\n\u001b[32m----> \u001b[39m\u001b[32m1\u001b[39m \u001b[43mread_data\u001b[49m\n",
      "\u001b[31mNameError\u001b[39m: name 'read_data' is not defined"
     ]
    }
   ],
   "source": []
  },
  {
   "cell_type": "code",
   "execution_count": 11,
   "id": "e722cdd5",
   "metadata": {},
   "outputs": [
    {
     "ename": "NameError",
     "evalue": "name 'third_df' is not defined",
     "output_type": "error",
     "traceback": [
      "\u001b[31m---------------------------------------------------------------------------\u001b[39m",
      "\u001b[31mNameError\u001b[39m                                 Traceback (most recent call last)",
      "\u001b[36mCell\u001b[39m\u001b[36m \u001b[39m\u001b[32mIn[11]\u001b[39m\u001b[32m, line 1\u001b[39m\n\u001b[32m----> \u001b[39m\u001b[32m1\u001b[39m \u001b[43mthird_df\u001b[49m\n",
      "\u001b[31mNameError\u001b[39m: name 'third_df' is not defined"
     ]
    }
   ],
   "source": [
    "third_df"
   ]
  },
  {
   "cell_type": "code",
   "execution_count": 1,
   "id": "19641b27",
   "metadata": {},
   "outputs": [
    {
     "ename": "NameError",
     "evalue": "name 'read_data' is not defined",
     "output_type": "error",
     "traceback": [
      "\u001b[31m---------------------------------------------------------------------------\u001b[39m",
      "\u001b[31mNameError\u001b[39m                                 Traceback (most recent call last)",
      "\u001b[36mCell\u001b[39m\u001b[36m \u001b[39m\u001b[32mIn[1]\u001b[39m\u001b[32m, line 1\u001b[39m\n\u001b[32m----> \u001b[39m\u001b[32m1\u001b[39m \u001b[43mread_data\u001b[49m\n",
      "\u001b[31mNameError\u001b[39m: name 'read_data' is not defined"
     ]
    }
   ],
   "source": [
    "read_data"
   ]
  },
  {
   "cell_type": "code",
   "execution_count": 2,
   "id": "9b8a515f",
   "metadata": {},
   "outputs": [
    {
     "ename": "NameError",
     "evalue": "name 'read_data' is not defined",
     "output_type": "error",
     "traceback": [
      "\u001b[31m---------------------------------------------------------------------------\u001b[39m",
      "\u001b[31mNameError\u001b[39m                                 Traceback (most recent call last)",
      "\u001b[36mCell\u001b[39m\u001b[36m \u001b[39m\u001b[32mIn[2]\u001b[39m\u001b[32m, line 1\u001b[39m\n\u001b[32m----> \u001b[39m\u001b[32m1\u001b[39m \u001b[43mread_data\u001b[49m\n",
      "\u001b[31mNameError\u001b[39m: name 'read_data' is not defined"
     ]
    }
   ],
   "source": [
    "read_data"
   ]
  },
  {
   "cell_type": "code",
   "execution_count": 5,
   "id": "53cd3116",
   "metadata": {},
   "outputs": [],
   "source": [
    "new_df = pd.read_csv('Friends.csv')"
   ]
  },
  {
   "cell_type": "code",
   "execution_count": 6,
   "id": "5858cf21",
   "metadata": {},
   "outputs": [
    {
     "ename": "NameError",
     "evalue": "name 'read_data' is not defined",
     "output_type": "error",
     "traceback": [
      "\u001b[31m---------------------------------------------------------------------------\u001b[39m",
      "\u001b[31mNameError\u001b[39m                                 Traceback (most recent call last)",
      "\u001b[36mCell\u001b[39m\u001b[36m \u001b[39m\u001b[32mIn[6]\u001b[39m\u001b[32m, line 1\u001b[39m\n\u001b[32m----> \u001b[39m\u001b[32m1\u001b[39m \u001b[43mread_data\u001b[49m\n",
      "\u001b[31mNameError\u001b[39m: name 'read_data' is not defined"
     ]
    }
   ],
   "source": [
    "read_data"
   ]
  },
  {
   "cell_type": "code",
   "execution_count": 7,
   "id": "c54123e3",
   "metadata": {},
   "outputs": [
    {
     "data": {
      "text/html": [
       "<div>\n",
       "<style scoped>\n",
       "    .dataframe tbody tr th:only-of-type {\n",
       "        vertical-align: middle;\n",
       "    }\n",
       "\n",
       "    .dataframe tbody tr th {\n",
       "        vertical-align: top;\n",
       "    }\n",
       "\n",
       "    .dataframe thead th {\n",
       "        text-align: right;\n",
       "    }\n",
       "</style>\n",
       "<table border=\"1\" class=\"dataframe\">\n",
       "  <thead>\n",
       "    <tr style=\"text-align: right;\">\n",
       "      <th></th>\n",
       "      <th>Name</th>\n",
       "      <th>Class</th>\n",
       "      <th>Marks</th>\n",
       "      <th>Grade</th>\n",
       "    </tr>\n",
       "  </thead>\n",
       "  <tbody>\n",
       "    <tr>\n",
       "      <th>0</th>\n",
       "      <td>Rustam</td>\n",
       "      <td>9th</td>\n",
       "      <td>100</td>\n",
       "      <td>A++</td>\n",
       "    </tr>\n",
       "    <tr>\n",
       "      <th>1</th>\n",
       "      <td>Kartik</td>\n",
       "      <td>9th</td>\n",
       "      <td>88</td>\n",
       "      <td>B++</td>\n",
       "    </tr>\n",
       "    <tr>\n",
       "      <th>2</th>\n",
       "      <td>Adhiraj</td>\n",
       "      <td>9th</td>\n",
       "      <td>89</td>\n",
       "      <td>B++</td>\n",
       "    </tr>\n",
       "    <tr>\n",
       "      <th>3</th>\n",
       "      <td>Muskan</td>\n",
       "      <td>9th</td>\n",
       "      <td>0</td>\n",
       "      <td>F</td>\n",
       "    </tr>\n",
       "    <tr>\n",
       "      <th>4</th>\n",
       "      <td>Rishi</td>\n",
       "      <td>9th</td>\n",
       "      <td>55</td>\n",
       "      <td>C</td>\n",
       "    </tr>\n",
       "    <tr>\n",
       "      <th>5</th>\n",
       "      <td>Rahul</td>\n",
       "      <td>8th</td>\n",
       "      <td>37</td>\n",
       "      <td>D</td>\n",
       "    </tr>\n",
       "  </tbody>\n",
       "</table>\n",
       "</div>"
      ],
      "text/plain": [
       "      Name Class  Marks Grade\n",
       "0   Rustam   9th    100   A++\n",
       "1   Kartik   9th     88   B++\n",
       "2  Adhiraj   9th     89   B++\n",
       "3   Muskan   9th      0     F\n",
       "4    Rishi   9th     55     C\n",
       "5    Rahul   8th     37     D"
      ]
     },
     "execution_count": 7,
     "metadata": {},
     "output_type": "execute_result"
    }
   ],
   "source": [
    "new_df"
   ]
  },
  {
   "cell_type": "code",
   "execution_count": 15,
   "id": "5b2415cf",
   "metadata": {},
   "outputs": [
    {
     "data": {
      "text/html": [
       "<div>\n",
       "<style scoped>\n",
       "    .dataframe tbody tr th:only-of-type {\n",
       "        vertical-align: middle;\n",
       "    }\n",
       "\n",
       "    .dataframe tbody tr th {\n",
       "        vertical-align: top;\n",
       "    }\n",
       "\n",
       "    .dataframe thead th {\n",
       "        text-align: right;\n",
       "    }\n",
       "</style>\n",
       "<table border=\"1\" class=\"dataframe\">\n",
       "  <thead>\n",
       "    <tr style=\"text-align: right;\">\n",
       "      <th></th>\n",
       "      <th>Name</th>\n",
       "      <th>Marks</th>\n",
       "      <th>City</th>\n",
       "    </tr>\n",
       "  </thead>\n",
       "  <tbody>\n",
       "    <tr>\n",
       "      <th>0</th>\n",
       "      <td>Rustam</td>\n",
       "      <td>99</td>\n",
       "      <td>jaloun</td>\n",
       "    </tr>\n",
       "    <tr>\n",
       "      <th>1</th>\n",
       "      <td>Subh</td>\n",
       "      <td>89</td>\n",
       "      <td>moon</td>\n",
       "    </tr>\n",
       "    <tr>\n",
       "      <th>2</th>\n",
       "      <td>Harry</td>\n",
       "      <td>100</td>\n",
       "      <td>Rampur</td>\n",
       "    </tr>\n",
       "  </tbody>\n",
       "</table>\n",
       "</div>"
      ],
      "text/plain": [
       "     Name  Marks    City\n",
       "0  Rustam     99  jaloun\n",
       "1    Subh     89    moon\n",
       "2   Harry    100  Rampur"
      ]
     },
     "execution_count": 15,
     "metadata": {},
     "output_type": "execute_result"
    }
   ],
   "source": [
    "first_df"
   ]
  },
  {
   "cell_type": "code",
   "execution_count": 16,
   "id": "c2db0a7b",
   "metadata": {},
   "outputs": [
    {
     "data": {
      "text/html": [
       "<div>\n",
       "<style scoped>\n",
       "    .dataframe tbody tr th:only-of-type {\n",
       "        vertical-align: middle;\n",
       "    }\n",
       "\n",
       "    .dataframe tbody tr th {\n",
       "        vertical-align: top;\n",
       "    }\n",
       "\n",
       "    .dataframe thead th {\n",
       "        text-align: right;\n",
       "    }\n",
       "</style>\n",
       "<table border=\"1\" class=\"dataframe\">\n",
       "  <thead>\n",
       "    <tr style=\"text-align: right;\">\n",
       "      <th></th>\n",
       "      <th>Name</th>\n",
       "      <th>Marks</th>\n",
       "      <th>City</th>\n",
       "    </tr>\n",
       "  </thead>\n",
       "  <tbody>\n",
       "    <tr>\n",
       "      <th>0</th>\n",
       "      <td>Rustam</td>\n",
       "      <td>99</td>\n",
       "      <td>jaloun</td>\n",
       "    </tr>\n",
       "    <tr>\n",
       "      <th>1</th>\n",
       "      <td>Subh</td>\n",
       "      <td>89</td>\n",
       "      <td>moon</td>\n",
       "    </tr>\n",
       "    <tr>\n",
       "      <th>2</th>\n",
       "      <td>Harry</td>\n",
       "      <td>100</td>\n",
       "      <td>Rampur</td>\n",
       "    </tr>\n",
       "    <tr>\n",
       "      <th>3</th>\n",
       "      <td>Rahul</td>\n",
       "      <td>0</td>\n",
       "      <td>Lucknow</td>\n",
       "    </tr>\n",
       "  </tbody>\n",
       "</table>\n",
       "</div>"
      ],
      "text/plain": [
       "     Name  Marks     City\n",
       "0  Rustam     99   jaloun\n",
       "1    Subh     89     moon\n",
       "2   Harry    100   Rampur\n",
       "3   Rahul      0  Lucknow"
      ]
     },
     "execution_count": 16,
     "metadata": {},
     "output_type": "execute_result"
    }
   ],
   "source": [
    "Second_df"
   ]
  },
  {
   "cell_type": "code",
   "execution_count": 17,
   "id": "903c9e22",
   "metadata": {},
   "outputs": [
    {
     "ename": "NameError",
     "evalue": "name 'third' is not defined",
     "output_type": "error",
     "traceback": [
      "\u001b[31m---------------------------------------------------------------------------\u001b[39m",
      "\u001b[31mNameError\u001b[39m                                 Traceback (most recent call last)",
      "\u001b[36mCell\u001b[39m\u001b[36m \u001b[39m\u001b[32mIn[17]\u001b[39m\u001b[32m, line 1\u001b[39m\n\u001b[32m----> \u001b[39m\u001b[32m1\u001b[39m \u001b[43mthird\u001b[49m\n",
      "\u001b[31mNameError\u001b[39m: name 'third' is not defined"
     ]
    }
   ],
   "source": [
    "third"
   ]
  },
  {
   "cell_type": "code",
   "execution_count": 18,
   "id": "9aaf0839",
   "metadata": {},
   "outputs": [
    {
     "data": {
      "text/html": [
       "<div>\n",
       "<style scoped>\n",
       "    .dataframe tbody tr th:only-of-type {\n",
       "        vertical-align: middle;\n",
       "    }\n",
       "\n",
       "    .dataframe tbody tr th {\n",
       "        vertical-align: top;\n",
       "    }\n",
       "\n",
       "    .dataframe thead th {\n",
       "        text-align: right;\n",
       "    }\n",
       "</style>\n",
       "<table border=\"1\" class=\"dataframe\">\n",
       "  <thead>\n",
       "    <tr style=\"text-align: right;\">\n",
       "      <th></th>\n",
       "      <th>Name</th>\n",
       "      <th>Class</th>\n",
       "      <th>Marks</th>\n",
       "      <th>Grade</th>\n",
       "    </tr>\n",
       "  </thead>\n",
       "  <tbody>\n",
       "    <tr>\n",
       "      <th>0</th>\n",
       "      <td>Rustam</td>\n",
       "      <td>9th</td>\n",
       "      <td>100</td>\n",
       "      <td>A++</td>\n",
       "    </tr>\n",
       "    <tr>\n",
       "      <th>1</th>\n",
       "      <td>Kartik</td>\n",
       "      <td>9th</td>\n",
       "      <td>88</td>\n",
       "      <td>B++</td>\n",
       "    </tr>\n",
       "    <tr>\n",
       "      <th>2</th>\n",
       "      <td>Adhiraj</td>\n",
       "      <td>9th</td>\n",
       "      <td>89</td>\n",
       "      <td>B++</td>\n",
       "    </tr>\n",
       "    <tr>\n",
       "      <th>3</th>\n",
       "      <td>Muskan</td>\n",
       "      <td>9th</td>\n",
       "      <td>0</td>\n",
       "      <td>F</td>\n",
       "    </tr>\n",
       "    <tr>\n",
       "      <th>4</th>\n",
       "      <td>Rishi</td>\n",
       "      <td>9th</td>\n",
       "      <td>55</td>\n",
       "      <td>C</td>\n",
       "    </tr>\n",
       "    <tr>\n",
       "      <th>5</th>\n",
       "      <td>Rahul</td>\n",
       "      <td>8th</td>\n",
       "      <td>37</td>\n",
       "      <td>D</td>\n",
       "    </tr>\n",
       "  </tbody>\n",
       "</table>\n",
       "</div>"
      ],
      "text/plain": [
       "      Name Class  Marks Grade\n",
       "0   Rustam   9th    100   A++\n",
       "1   Kartik   9th     88   B++\n",
       "2  Adhiraj   9th     89   B++\n",
       "3   Muskan   9th      0     F\n",
       "4    Rishi   9th     55     C\n",
       "5    Rahul   8th     37     D"
      ]
     },
     "execution_count": 18,
     "metadata": {},
     "output_type": "execute_result"
    }
   ],
   "source": [
    "third_df"
   ]
  },
  {
   "cell_type": "code",
   "execution_count": 19,
   "id": "b8adedc3",
   "metadata": {},
   "outputs": [
    {
     "data": {
      "text/html": [
       "<div>\n",
       "<style scoped>\n",
       "    .dataframe tbody tr th:only-of-type {\n",
       "        vertical-align: middle;\n",
       "    }\n",
       "\n",
       "    .dataframe tbody tr th {\n",
       "        vertical-align: top;\n",
       "    }\n",
       "\n",
       "    .dataframe thead th {\n",
       "        text-align: right;\n",
       "    }\n",
       "</style>\n",
       "<table border=\"1\" class=\"dataframe\">\n",
       "  <thead>\n",
       "    <tr style=\"text-align: right;\">\n",
       "      <th></th>\n",
       "      <th>Name</th>\n",
       "      <th>Class</th>\n",
       "      <th>Marks</th>\n",
       "      <th>Grade</th>\n",
       "    </tr>\n",
       "  </thead>\n",
       "  <tbody>\n",
       "    <tr>\n",
       "      <th>0</th>\n",
       "      <td>Rustam</td>\n",
       "      <td>9th</td>\n",
       "      <td>100</td>\n",
       "      <td>A++</td>\n",
       "    </tr>\n",
       "    <tr>\n",
       "      <th>1</th>\n",
       "      <td>Kartik</td>\n",
       "      <td>9th</td>\n",
       "      <td>88</td>\n",
       "      <td>B++</td>\n",
       "    </tr>\n",
       "    <tr>\n",
       "      <th>2</th>\n",
       "      <td>Adhiraj</td>\n",
       "      <td>9th</td>\n",
       "      <td>89</td>\n",
       "      <td>B++</td>\n",
       "    </tr>\n",
       "  </tbody>\n",
       "</table>\n",
       "</div>"
      ],
      "text/plain": [
       "      Name Class  Marks Grade\n",
       "0   Rustam   9th    100   A++\n",
       "1   Kartik   9th     88   B++\n",
       "2  Adhiraj   9th     89   B++"
      ]
     },
     "execution_count": 19,
     "metadata": {},
     "output_type": "execute_result"
    }
   ],
   "source": [
    "third_df.head(3)"
   ]
  },
  {
   "cell_type": "code",
   "execution_count": 20,
   "id": "0c808387",
   "metadata": {},
   "outputs": [
    {
     "data": {
      "text/html": [
       "<div>\n",
       "<style scoped>\n",
       "    .dataframe tbody tr th:only-of-type {\n",
       "        vertical-align: middle;\n",
       "    }\n",
       "\n",
       "    .dataframe tbody tr th {\n",
       "        vertical-align: top;\n",
       "    }\n",
       "\n",
       "    .dataframe thead th {\n",
       "        text-align: right;\n",
       "    }\n",
       "</style>\n",
       "<table border=\"1\" class=\"dataframe\">\n",
       "  <thead>\n",
       "    <tr style=\"text-align: right;\">\n",
       "      <th></th>\n",
       "      <th>Name</th>\n",
       "      <th>Class</th>\n",
       "      <th>Marks</th>\n",
       "      <th>Grade</th>\n",
       "    </tr>\n",
       "  </thead>\n",
       "  <tbody>\n",
       "    <tr>\n",
       "      <th>4</th>\n",
       "      <td>Rishi</td>\n",
       "      <td>9th</td>\n",
       "      <td>55</td>\n",
       "      <td>C</td>\n",
       "    </tr>\n",
       "    <tr>\n",
       "      <th>5</th>\n",
       "      <td>Rahul</td>\n",
       "      <td>8th</td>\n",
       "      <td>37</td>\n",
       "      <td>D</td>\n",
       "    </tr>\n",
       "  </tbody>\n",
       "</table>\n",
       "</div>"
      ],
      "text/plain": [
       "    Name Class  Marks Grade\n",
       "4  Rishi   9th     55     C\n",
       "5  Rahul   8th     37     D"
      ]
     },
     "execution_count": 20,
     "metadata": {},
     "output_type": "execute_result"
    }
   ],
   "source": [
    "third_df.tail(2)"
   ]
  },
  {
   "cell_type": "code",
   "execution_count": 21,
   "id": "90612a85",
   "metadata": {},
   "outputs": [
    {
     "data": {
      "text/html": [
       "<div>\n",
       "<style scoped>\n",
       "    .dataframe tbody tr th:only-of-type {\n",
       "        vertical-align: middle;\n",
       "    }\n",
       "\n",
       "    .dataframe tbody tr th {\n",
       "        vertical-align: top;\n",
       "    }\n",
       "\n",
       "    .dataframe thead th {\n",
       "        text-align: right;\n",
       "    }\n",
       "</style>\n",
       "<table border=\"1\" class=\"dataframe\">\n",
       "  <thead>\n",
       "    <tr style=\"text-align: right;\">\n",
       "      <th></th>\n",
       "      <th>Name</th>\n",
       "      <th>Class</th>\n",
       "      <th>Marks</th>\n",
       "      <th>Grade</th>\n",
       "    </tr>\n",
       "  </thead>\n",
       "  <tbody>\n",
       "    <tr>\n",
       "      <th>0</th>\n",
       "      <td>Rustam</td>\n",
       "      <td>9th</td>\n",
       "      <td>100</td>\n",
       "      <td>A++</td>\n",
       "    </tr>\n",
       "    <tr>\n",
       "      <th>1</th>\n",
       "      <td>Kartik</td>\n",
       "      <td>9th</td>\n",
       "      <td>88</td>\n",
       "      <td>B++</td>\n",
       "    </tr>\n",
       "    <tr>\n",
       "      <th>2</th>\n",
       "      <td>Adhiraj</td>\n",
       "      <td>9th</td>\n",
       "      <td>89</td>\n",
       "      <td>B++</td>\n",
       "    </tr>\n",
       "    <tr>\n",
       "      <th>3</th>\n",
       "      <td>Muskan</td>\n",
       "      <td>9th</td>\n",
       "      <td>0</td>\n",
       "      <td>F</td>\n",
       "    </tr>\n",
       "    <tr>\n",
       "      <th>4</th>\n",
       "      <td>Rishi</td>\n",
       "      <td>9th</td>\n",
       "      <td>55</td>\n",
       "      <td>C</td>\n",
       "    </tr>\n",
       "    <tr>\n",
       "      <th>5</th>\n",
       "      <td>Rahul</td>\n",
       "      <td>8th</td>\n",
       "      <td>37</td>\n",
       "      <td>D</td>\n",
       "    </tr>\n",
       "  </tbody>\n",
       "</table>\n",
       "</div>"
      ],
      "text/plain": [
       "      Name Class  Marks Grade\n",
       "0   Rustam   9th    100   A++\n",
       "1   Kartik   9th     88   B++\n",
       "2  Adhiraj   9th     89   B++\n",
       "3   Muskan   9th      0     F\n",
       "4    Rishi   9th     55     C\n",
       "5    Rahul   8th     37     D"
      ]
     },
     "execution_count": 21,
     "metadata": {},
     "output_type": "execute_result"
    }
   ],
   "source": [
    "third_df"
   ]
  },
  {
   "cell_type": "code",
   "execution_count": 22,
   "id": "6cce0ccc",
   "metadata": {},
   "outputs": [
    {
     "data": {
      "text/html": [
       "<div>\n",
       "<style scoped>\n",
       "    .dataframe tbody tr th:only-of-type {\n",
       "        vertical-align: middle;\n",
       "    }\n",
       "\n",
       "    .dataframe tbody tr th {\n",
       "        vertical-align: top;\n",
       "    }\n",
       "\n",
       "    .dataframe thead th {\n",
       "        text-align: right;\n",
       "    }\n",
       "</style>\n",
       "<table border=\"1\" class=\"dataframe\">\n",
       "  <thead>\n",
       "    <tr style=\"text-align: right;\">\n",
       "      <th></th>\n",
       "      <th>Marks</th>\n",
       "    </tr>\n",
       "  </thead>\n",
       "  <tbody>\n",
       "    <tr>\n",
       "      <th>count</th>\n",
       "      <td>6.000000</td>\n",
       "    </tr>\n",
       "    <tr>\n",
       "      <th>mean</th>\n",
       "      <td>61.500000</td>\n",
       "    </tr>\n",
       "    <tr>\n",
       "      <th>std</th>\n",
       "      <td>38.380985</td>\n",
       "    </tr>\n",
       "    <tr>\n",
       "      <th>min</th>\n",
       "      <td>0.000000</td>\n",
       "    </tr>\n",
       "    <tr>\n",
       "      <th>25%</th>\n",
       "      <td>41.500000</td>\n",
       "    </tr>\n",
       "    <tr>\n",
       "      <th>50%</th>\n",
       "      <td>71.500000</td>\n",
       "    </tr>\n",
       "    <tr>\n",
       "      <th>75%</th>\n",
       "      <td>88.750000</td>\n",
       "    </tr>\n",
       "    <tr>\n",
       "      <th>max</th>\n",
       "      <td>100.000000</td>\n",
       "    </tr>\n",
       "  </tbody>\n",
       "</table>\n",
       "</div>"
      ],
      "text/plain": [
       "            Marks\n",
       "count    6.000000\n",
       "mean    61.500000\n",
       "std     38.380985\n",
       "min      0.000000\n",
       "25%     41.500000\n",
       "50%     71.500000\n",
       "75%     88.750000\n",
       "max    100.000000"
      ]
     },
     "execution_count": 22,
     "metadata": {},
     "output_type": "execute_result"
    }
   ],
   "source": [
    "third_df.describe()"
   ]
  },
  {
   "cell_type": "code",
   "execution_count": null,
   "id": "228ad6e5",
   "metadata": {},
   "outputs": [],
   "source": []
  }
 ],
 "metadata": {
  "kernelspec": {
   "display_name": "Python 3",
   "language": "python",
   "name": "python3"
  },
  "language_info": {
   "codemirror_mode": {
    "name": "ipython",
    "version": 3
   },
   "file_extension": ".py",
   "mimetype": "text/x-python",
   "name": "python",
   "nbconvert_exporter": "python",
   "pygments_lexer": "ipython3",
   "version": "3.13.3"
  }
 },
 "nbformat": 4,
 "nbformat_minor": 5
}
